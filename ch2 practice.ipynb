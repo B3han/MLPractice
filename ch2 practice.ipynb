{
 "cells": [
  {
   "cell_type": "code",
   "execution_count": 12,
   "id": "f041e6bd-b848-4e3e-be70-74cfc9c84979",
   "metadata": {},
   "outputs": [],
   "source": [
    "#Gradient Descent\n"
   ]
  },
  {
   "cell_type": "code",
   "execution_count": 17,
   "id": "a28a27c5-33f8-496a-a7b6-082fee076d51",
   "metadata": {},
   "outputs": [],
   "source": [
    "import numpy as np\n",
    "\n",
    "# Activation Function\n",
    "def sigmoid(w_sum):\n",
    "    return 1/(1+np.exp(-w_sum))\n",
    "\n",
    "#Get Model Output\n",
    "def get_prediction(features, weights, bias):\n",
    "    return sigmoid(np.dot(features, weights) + bias)\n",
    "\n",
    "#Loss Function\n",
    "def cross_entropy(target, pred):\n",
    "    return -(target*np.log10(pred)+(1-target)*(np.log10(1-pred)))\n",
    "\n",
    "#Update Weights\n",
    "def gradient_descent(feature, weights, target, prediction, l_rate, bias):\n",
    "    '''\n",
    "\n",
    "    arguement data types:\n",
    "        feature, weights = lists with 3 items\n",
    "        target = integer (0 or 1)\n",
    "        prediction, l_rate, bias = floating point numbers\n",
    "    returns (tuple):\n",
    "        new weights, new bias\n",
    "    '''\n",
    "\n",
    "    new_weights = []\n",
    "    bias += l_rate*(target - prediction)\n",
    "    for x,w in zip(feature, weights):\n",
    "        new_w = w + l_rate*(target - prediction)*x\n",
    "        new_weights.append(new_w)\n",
    "        \n",
    "    return new_weights, bias\n",
    "\n",
    "# Data\n",
    "features = np.array(([0.1, 0.5, 0.2], [0.2, 0.3, 0.1], [0.7, 0.4, 0.2], [0.1, 0.4, 0.3]))\n",
    "targets = np.array([0.1, 0.1])\n",
    "weights = np.array([0.4, 0.2, 0.6])\n",
    "bias = 0.5\n",
    "l_rate = 0.1"
   ]
  },
  {
   "cell_type": "code",
   "execution_count": 18,
   "id": "d8e89dc3-fdf3-4e47-a8e7-e0262757a472",
   "metadata": {},
   "outputs": [
    {
     "name": "stdout",
     "output_type": "stream",
     "text": [
      "0.585026652029182\n",
      "0.09691001300805639\n",
      "0.3187587626244128\n",
      "0.1549019599857432\n",
      "0.2888993469118486\n"
     ]
    }
   ],
   "source": [
    "import math\n",
    "\n",
    "input_data = [(0.26, 1),\n",
    "              (0.20, 0),\n",
    "              (0.48, 1),\n",
    "              (0.30, 0)]\n",
    "\n",
    "def cross_entropy(input_data):\n",
    "    loss = 0\n",
    "    n = len(input_data)\n",
    "    for entry in input_data:\n",
    "        w_sum = entry[0]\n",
    "        y = entry[1]\n",
    "        loss += -(y*math.log10(w_sum) + (1-y)*math.log10(1-w_sum))\n",
    "        print(-(y*math.log10(w_sum) + (1-y)*math.log10(1-w_sum)))\n",
    "    return loss/n\n",
    "\n",
    "error_term = cross_entropy(input_data)\n",
    "print(error_term)"
   ]
  },
  {
   "cell_type": "code",
   "execution_count": 28,
   "id": "fc20007b-6376-4e19-8e10-1a1d890d7c24",
   "metadata": {},
   "outputs": [
    {
     "ename": "NameError",
     "evalue": "name 'perceptron' is not defined",
     "output_type": "error",
     "traceback": [
      "\u001b[1;31m---------------------------------------------------------------------------\u001b[0m",
      "\u001b[1;31mNameError\u001b[0m                                 Traceback (most recent call last)",
      "Cell \u001b[1;32mIn[28], line 18\u001b[0m\n\u001b[0;32m     15\u001b[0m         \u001b[38;5;28mprint\u001b[39m(weighted_sum)\n\u001b[0;32m     16\u001b[0m     \u001b[38;5;28;01mreturn\u001b[39;00m step(weighted_sum)\n\u001b[1;32m---> 18\u001b[0m output \u001b[38;5;241m=\u001b[39m \u001b[43mperceptron\u001b[49m()\n\u001b[0;32m     19\u001b[0m \u001b[38;5;28mprint\u001b[39m(output  \u001b[38;5;241m+\u001b[39m \u001b[38;5;28mstr\u001b[39m(output))\n",
      "\u001b[1;31mNameError\u001b[0m: name 'perceptron' is not defined"
     ]
    }
   ],
   "source": [
    "x_input = [0.1, 0.5, 0.2]\n",
    "w_weights = [0.4, 0.3, 0.6]\n",
    "threshold = 0.5\n",
    "\n",
    "def step(weighted_sum):\n",
    "    if weighted_sum > threshold:\n",
    "        return 1\n",
    "    else:\n",
    "        return 0\n",
    "\n",
    "def preceptron():\n",
    "    weighted_sum = 0\n",
    "    for x,w in zip(x_input, w_weights):\n",
    "        weighted_sum += x*w\n",
    "        print(weighted_sum)\n",
    "    return step(weighted_sum)\n",
    "\n",
    "output = perceptron()\n",
    "print(output  + str(output))"
   ]
  },
  {
   "cell_type": "code",
   "execution_count": 31,
   "id": "9d8456fc-c155-4957-84c7-ac0eae946d04",
   "metadata": {},
   "outputs": [],
   "source": [
    "# Recursion and Recursive functions"
   ]
  },
  {
   "cell_type": "code",
   "execution_count": 32,
   "id": "f3dd8ecf-f59f-4797-b412-9ea5d9ee1c23",
   "metadata": {},
   "outputs": [
    {
     "name": "stdout",
     "output_type": "stream",
     "text": [
      "9\n",
      "please enter an even number\n"
     ]
    }
   ],
   "source": [
    "def EvenNums(num):\n",
    "    print(num)\n",
    "    if num % 2 != 0:\n",
    "        print(\"please enter an even number\")\n",
    "    elif num == 2:\n",
    "        return num\n",
    "    else:\n",
    "        return EvenNums(num-2)\n",
    "\n",
    "EvenNums(9)"
   ]
  },
  {
   "cell_type": "code",
   "execution_count": 37,
   "id": "8231b00e-b620-4ff2-9388-6fc559d6cea0",
   "metadata": {},
   "outputs": [
    {
     "name": "stdout",
     "output_type": "stream",
     "text": [
      "**** recursion ****\n",
      "21\n",
      "speed: 0.0009217262268066406\n",
      "**** iteration ****\n",
      "21\n",
      "speed : 0.0\n"
     ]
    }
   ],
   "source": [
    "import time\n",
    "\n",
    "def fibonacci(idx):\n",
    "    seq = [0,1]\n",
    "    for i in range(idx):\n",
    "        seq.append(seq[-1]+seq[-2])\n",
    "    return seq[-2]\n",
    "\n",
    "def Fibonacci(idx):\n",
    "    if idx <= 1:\n",
    "        return idx\n",
    "    else:\n",
    "        return Fibonacci(idx-1)+Fibonacci(idx-2)\n",
    "print(\"**** recursion ****\")\n",
    "rec = time.time()\n",
    "print(Fibonacci(8))\n",
    "print(\"speed: \" + str(time.time()-rec))\n",
    "\n",
    "print(\"**** iteration ****\")\n",
    "it = time.time()\n",
    "print(fibonacci(8))\n",
    "print(\"speed: \" + str(time.time()-it))"
   ]
  },
  {
   "cell_type": "code",
   "execution_count": null,
   "id": "9ea98f34-ab8a-484e-aaf2-83c86dd28498",
   "metadata": {},
   "outputs": [],
   "source": []
  }
 ],
 "metadata": {
  "kernelspec": {
   "display_name": "Python 3 (ipykernel)",
   "language": "python",
   "name": "python3"
  },
  "language_info": {
   "codemirror_mode": {
    "name": "ipython",
    "version": 3
   },
   "file_extension": ".py",
   "mimetype": "text/x-python",
   "name": "python",
   "nbconvert_exporter": "python",
   "pygments_lexer": "ipython3",
   "version": "3.12.1"
  }
 },
 "nbformat": 4,
 "nbformat_minor": 5
}
